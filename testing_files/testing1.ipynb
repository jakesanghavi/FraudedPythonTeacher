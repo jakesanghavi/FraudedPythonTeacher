{
 "cells": [
  {
   "cell_type": "code",
   "execution_count": null,
   "id": "7a0c6ee4",
   "metadata": {},
   "outputs": [],
   "source": [
    "def test_groceries(groceries):\n",
    "    try:\n",
    "        assert(sorted(groceries) == ['apples', 'eggs', 'milk'])\n",
    "        print('Good job!')\n",
    "    except AssertionError:\n",
    "        print(\"Hmm it looks like this isn't quite right. Try again!\")"
   ]
  },
  {
   "cell_type": "code",
   "execution_count": null,
   "id": "fdde1d5e",
   "metadata": {},
   "outputs": [],
   "source": [
    "def test_groceries2(groceries):\n",
    "    try:\n",
    "        assert(len(groceries) == 4 and len(set(groceries)) == 4 and \\\n",
    "               set([groceries[0]] + groceries[2:]).issubset(['apples', 'eggs', 'milk', 'strawberries']))\n",
    "        assert(groceries[1] == 'flour')\n",
    "        print('Good job!')\n",
    "    except AssertionError:\n",
    "        print(\"Hmm it looks like this isn't quite right. Try again!\")"
   ]
  },
  {
   "cell_type": "code",
   "execution_count": null,
   "id": "4e79aebf",
   "metadata": {},
   "outputs": [],
   "source": [
    "def test_grocery_prices(groceries):\n",
    "    try:\n",
    "        assert(milk_price == grocery_prices['milk'])\n",
    "        assert(grocery_prices.get('strawberries') is not None)\n",
    "        assert(grocery_prices['eggs'] > 3.79)\n",
    "        print('Good job!')\n",
    "    except AssertionError:\n",
    "        print(\"Hmm it looks like this isn't quite right. Try again!\")"
   ]
  },
  {
   "cell_type": "code",
   "execution_count": null,
   "id": "d010c86b",
   "metadata": {},
   "outputs": [],
   "source": [
    "def list100(empty):\n",
    "    try:\n",
    "        assert(empty == [x for x in range(1,101)])\n",
    "        print('Good job!')\n",
    "    except AssertionError:\n",
    "        print(\"Hmm it looks like this isn't quite right. Try again!\")"
   ]
  },
  {
   "cell_type": "code",
   "execution_count": null,
   "id": "c0527e24",
   "metadata": {},
   "outputs": [],
   "source": [
    "def good_day(greeting_message, current_time):\n",
    "    try:\n",
    "        correct_greeting = 'night' if current_time < 4 or current_time > 6 \\\n",
    "        else ('afternoon' if current_time > 12 else 'morning')\n",
    "        assert(correct_greeting in greeting_message.lower())\n",
    "        print('Good job!')\n",
    "    except AssertionError:\n",
    "        print(\"Hmm it looks like this isn't quite right. Try again!\")"
   ]
  },
  {
   "cell_type": "code",
   "execution_count": null,
   "id": "dd641d4b",
   "metadata": {},
   "outputs": [],
   "source": [
    "def computer_lab(computer):\n",
    "    try:\n",
    "        assert(computer.company and computer.company.lower() == 'apple' and computer.size and (computer.size == 15 \\\n",
    "        or computer.size == '15') and computer.color and computer.color.lower() == 'blue')\n",
    "        print('Good job!') \n",
    "    except AssertionError:\n",
    "        print(\"Hmm it looks like this isn't quite right. Try again!\")"
   ]
  }
 ],
 "metadata": {
  "kernelspec": {
   "display_name": "Python 3 (ipykernel)",
   "language": "python",
   "name": "python3"
  },
  "language_info": {
   "codemirror_mode": {
    "name": "ipython",
    "version": 3
   },
   "file_extension": ".py",
   "mimetype": "text/x-python",
   "name": "python",
   "nbconvert_exporter": "python",
   "pygments_lexer": "ipython3",
   "version": "3.10.13"
  }
 },
 "nbformat": 4,
 "nbformat_minor": 5
}
