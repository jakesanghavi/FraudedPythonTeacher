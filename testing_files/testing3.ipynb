{
 "cells": [
  {
   "cell_type": "code",
   "execution_count": 2,
   "id": "78a76f08",
   "metadata": {},
   "outputs": [],
   "source": [
    "def test_even_nums(answer):\n",
    "    truth = np.arange(2,1001, 2)\n",
    "    try:\n",
    "        assert(np.array_equal(answer, truth))\n",
    "        print(\"Good job!\")\n",
    "    except AssertionError:\n",
    "        print(f\"Hmm it looks like this isn't quite right. Try again!\")"
   ]
  },
  {
   "cell_type": "code",
   "execution_count": null,
   "id": "3c338384",
   "metadata": {},
   "outputs": [],
   "source": [
    "def test_random_stats(array, mean, std):\n",
    "    mean_t = array.mean()\n",
    "    sd_t = array.std()\n",
    "    try:\n",
    "        assert(mean_t == mean and std == sd_t)\n",
    "        print(\"Good job!\")\n",
    "    except AssertionError:\n",
    "        print(f\"Hmm it looks like this isn't quite right. Try again!\")"
   ]
  },
  {
   "cell_type": "code",
   "execution_count": null,
   "id": "7c9085bf",
   "metadata": {},
   "outputs": [],
   "source": [
    "def generate_random_test_scores(count):\n",
    "    return np.random.randint(0, 100, count)"
   ]
  },
  {
   "cell_type": "code",
   "execution_count": null,
   "id": "a28e217c",
   "metadata": {},
   "outputs": [],
   "source": [
    "def test_score_filter(scores, answer):\n",
    "    fm = scores > 59\n",
    "    truth = scores[fm]\n",
    "    try:\n",
    "        assert(np.array_equal(answer, truth))\n",
    "        print(\"Good job!\")\n",
    "    except AssertionError:\n",
    "        print(f\"Hmm it looks like this isn't quite right. Try again!\")"
   ]
  },
  {
   "cell_type": "code",
   "execution_count": null,
   "id": "f415a8c1",
   "metadata": {},
   "outputs": [],
   "source": [
    "def test_gaga_row(df, answer):\n",
    "    truth = df[df['Name'] == 'Lady Gaga'].iloc[0]\n",
    "    if isinstance(answer, pd.DataFrame):\n",
    "        answer = answer.iloc[0]\n",
    "    try:\n",
    "        assert(np.array_equal(answer, truth))\n",
    "        print(\"Good job!\")\n",
    "    except AssertionError:\n",
    "        print(f\"Hmm it looks like this isn't quite right. Try again!\")"
   ]
  },
  {
   "cell_type": "code",
   "execution_count": null,
   "id": "19085a82",
   "metadata": {},
   "outputs": [],
   "source": [
    "def test_groupby_fun(df):\n",
    "    return df.groupby(['Genre'], as_index=False).agg({'Age': 'mean', 'Grammys': 'sum'})"
   ]
  }
 ],
 "metadata": {
  "kernelspec": {
   "display_name": "Python 3 (ipykernel)",
   "language": "python",
   "name": "python3"
  },
  "language_info": {
   "codemirror_mode": {
    "name": "ipython",
    "version": 3
   },
   "file_extension": ".py",
   "mimetype": "text/x-python",
   "name": "python",
   "nbconvert_exporter": "python",
   "pygments_lexer": "ipython3",
   "version": "3.10.13"
  }
 },
 "nbformat": 4,
 "nbformat_minor": 5
}
