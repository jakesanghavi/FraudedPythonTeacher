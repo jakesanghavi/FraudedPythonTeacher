{
 "cells": [
  {
   "cell_type": "markdown",
   "id": "c0845775",
   "metadata": {},
   "source": [
    "# Basic Algorithm Problems!\n",
    "\n",
    "In this section, you will use what you have learned to tackle some simple (and some not-so-simple) algorithmic problems. I tried to make the topics more fun than LeetCode at least\n",
    "\n",
    "These problems will get progressively harder (or at least that is the plan), and they are definitely a step up from the intro notebook.\n",
    "\n",
    "Printing things out is your best friends! It's a great way to inspect variables and/or debug. Reject real debugging techniques, return to print 🗿\n",
    "\n",
    "**Try to remember as much syntax as you can, but if you have to look up syntax, go for it! Try not to look up how to actually solve them though.**\n",
    "\n",
    "**You can do it!! Some of the problems could seem hard at first but they should all be solveable by putting together pieces of things you know**"
   ]
  },
  {
   "cell_type": "markdown",
   "id": "53dd06fa",
   "metadata": {},
   "source": [
    "<div style=\"width: 690px; height: 581px; overflow: hidden; position: relative; margin: 0 auto;\">\n",
    "  <img \n",
    "    src=\"https://media1.tenor.com/m/hmDMrE1yMAkAAAAC/when-the-coding-when-the.gif\"\n",
    "    width=\"690\" \n",
    "    height=\"645.66\"\n",
    "    alt=\"big bro coding ts outta this\"\n",
    "    style=\"position: absolute; top: -64.5px; left: 0;\"\n",
    "  >\n",
    "</div>"
   ]
  },
  {
   "cell_type": "code",
   "execution_count": null,
   "id": "16bfb27a",
   "metadata": {},
   "outputs": [],
   "source": [
    "# Load in the testing notebook to check answers\n",
    "!wget https://example.com/path/to/testing2.py -P testing_files/\n",
    "%run testing_files/testing2.py"
   ]
  },
  {
   "cell_type": "markdown",
   "id": "994527dc",
   "metadata": {},
   "source": [
    "# Problem 0 - Max of 2 Lists\n",
    "\n",
    "Ok yeah lame boooo this one isn't fun at all Jake you lied this is literally just LeetCode 🙄\n",
    "\n",
    "This one is supposed to be 100% solveable and just a warmup for the other problems\n",
    "\n",
    "Basically yeah there will be two lists of the same length, return the index where the sum of items at that\n",
    "element for each list is the highest. If there is a tie just take the lower index\n",
    "\n",
    "ex. `l1 = [60, 0, 30]`, `l2 = [22, 80, 55]`, you should return `2`"
   ]
  },
  {
   "cell_type": "code",
   "execution_count": null,
   "id": "5a30d665",
   "metadata": {},
   "outputs": [],
   "source": [
    "l1 = [random.randint(0, 100) for _ in range(100)]\n",
    "l2 = [random.randint(0, 100) for _ in range(100)]\n",
    "\n",
    "def find_max_index(l1, l2):\n",
    "    \"\"\"\n",
    "    Yeah so like do what I outlined above ig\n",
    "    \"\"\"\n",
    "    \n",
    "    return\n",
    "\n",
    "max_index = find_max_index(l1, l2)\n",
    "print(max_index)"
   ]
  },
  {
   "cell_type": "code",
   "execution_count": null,
   "id": "d8150b94",
   "metadata": {},
   "outputs": [],
   "source": [
    "# Testing time!\n",
    "\n",
    "test_max_index(max_index, l1, l2)"
   ]
  },
  {
   "cell_type": "markdown",
   "id": "38aa2fea",
   "metadata": {},
   "source": [
    "# Problem 1 - Taylor Swift Concert Attendees\n",
    "\n",
    "Using what you have learned about lists and dictionaries, solve the following problem:\n",
    "\n",
    "You are given a list of names of Taylor Swift concert attendees. Return out a dictionary which\n",
    "counts the occurrences of each name!\n",
    "\n",
    "Example entry in your answer: `\"Neha\": 75`"
   ]
  },
  {
   "cell_type": "code",
   "execution_count": null,
   "id": "02bf09fc",
   "metadata": {},
   "outputs": [],
   "source": [
    "# Generate 50,000 random attendees of the concert\n",
    "swifties = pick_random_names(50000)\n",
    "\n",
    "def count_swifties(attendees):\n",
    "    \"\"\"\n",
    "    Given a list of Taylor Swift concert attendees, count how many people\n",
    "    of each name were at the concert.\n",
    "    \n",
    "    Example:\n",
    "    count_swifties([\"Alex\", \"Taylor\", \"Alex\", \"Jamie\"]) ➞ {\"Alex\": 2, \"Taylor\": 1, \"Jamie\": 1}\n",
    "    \"\"\"\n",
    "    return\n",
    "\n",
    "swifties_count = count_swifties(swifties)\n",
    "\n",
    "print(swifties_count)"
   ]
  },
  {
   "cell_type": "code",
   "execution_count": null,
   "id": "4bb7d310",
   "metadata": {},
   "outputs": [],
   "source": [
    "# Testing time!\n",
    "\n",
    "test_count_swifties(swifties_count, swifties)"
   ]
  },
  {
   "cell_type": "markdown",
   "id": "c61dcb05",
   "metadata": {},
   "source": [
    "# Problem 2 - Hunger Games Victor\n",
    "\n",
    "This year is Hunger Games number 250! It's a crazy competition this year where 250 total candidates are chosen at random from all districts.\n",
    "\n",
    "You would like to bet on who will win, and you have developed a complex formula of sheer genius:\n",
    "\n",
    "\n",
    "$$\n",
    "\\text{Victory Factor} = \\frac{{\\text{height}^{3/2} \\times \\sqrt{\\text{weight}}}}{{\\sqrt{\\text{district}}}}\n",
    "$$\n",
    "\n",
    "Whichever tribute has the highest victory factor is the one you should pick to win!\n",
    "\n",
    "Here is what a tribute may look like, using a pre-defined `Tribute` class from the testing notebook. Keep in mind that the \"in\" and \"lb\" labels are just for readability - these numbers are stored as ints!\n",
    "\n",
    "`Tribute(name='Onyx Blackwell', height=69 in, weight=188 lb, district=4)`\n",
    "\n",
    "**May the odds be ever in your favor!**"
   ]
  },
  {
   "cell_type": "code",
   "execution_count": null,
   "id": "37aa50c7",
   "metadata": {},
   "outputs": [],
   "source": [
    "# Code to generate random tributes for you. Feel free to print them out to take a look!\n",
    "tributes = generate_random_tributes(250)\n",
    "\n",
    "def predict_winning_tribute(tributes):\n",
    "    \"\"\"\n",
    "    Implement your genius formula and predict which tribute you think will win!\n",
    "    Return the Tribute object itself!\n",
    "    \"\"\"\n",
    "    \n",
    "    return\n",
    "\n",
    "predicted_winner = predict_winning_tribute(tributes)\n",
    "print(predicted_winner)"
   ]
  },
  {
   "cell_type": "code",
   "execution_count": null,
   "id": "75f1f85c",
   "metadata": {},
   "outputs": [],
   "source": [
    "# Testing time!\n",
    "\n",
    "test_hunger_games(predicted_winner, tributes)"
   ]
  },
  {
   "cell_type": "markdown",
   "id": "bc9e84ce",
   "metadata": {},
   "source": [
    "# Problem 3 - AT&T Sneaky Users Debacle\n",
    "\n",
    "Some users like to get tricky and somehow alter their data before it gets sent to AT&T.\n",
    "\n",
    "Our best data scientists have determined that if a user has any month where their data usage is 10x less than their average, the user is doing something _nefarious_. Return a list of names of users who do that.\n",
    "\n",
    "\n",
    "`att_usage_data` is a dictionary of users where the key is their name and the value is a list of data usage numbers by month."
   ]
  },
  {
   "cell_type": "code",
   "execution_count": null,
   "id": "a0a67ff2",
   "metadata": {},
   "outputs": [],
   "source": [
    "# Generate random usage data for a bunch of users\n",
    "att_usage_data = generate_att_usage_data(100)\n",
    "\n",
    "def detect_data_surprises(usage_dict):\n",
    "    \"\"\"\n",
    "    Given a dictionary where keys are customer names and values are lists of\n",
    "    monthly data usage (in GB), return a list of customers who had at least\n",
    "    one month where they used less than 10x their average usage.\n",
    "    \"\"\"\n",
    "    \n",
    "    return\n",
    "\n",
    "outlier_users = detect_data_surprises(att_usage_data)\n",
    "print(\"Data Surprises:\", outlier_users)"
   ]
  },
  {
   "cell_type": "code",
   "execution_count": null,
   "id": "c4074003",
   "metadata": {},
   "outputs": [],
   "source": [
    "# Testing time!\n",
    "\n",
    "test_att_outliers(outlier_users, att_usage_data)"
   ]
  },
  {
   "cell_type": "markdown",
   "id": "27ed9ba5",
   "metadata": {},
   "source": [
    "# Problem 4 - Decode Taylor Swift Song Lyrics (Harder!)\n",
    "\n",
    "Something went wrong with one of Taylor's song uploads and the encryption got messed up!\n",
    "\n",
    "Each character has been shifted rightwards in the alphabet by 22! Ex. a --> w, b --> x, ..., z --> v\n",
    "\n",
    "(Assume all characters are lowercase, everything will be easier!)\n",
    "\n",
    "**Can you decrypt the song lyrics to find the famous song?**\n",
    "\n",
    "### Hint!\n",
    "\n",
    "Defining the alphabet in order as a variable will be super useful :)\n",
    "\n",
    "### Bonus!\n",
    "Once you solve this, try to decrypt my extra message about how much I love AT&T!😀 It has had the same encryption problem as the song, how unfortunate. You can run this message through your solution function and get the right result\n",
    "\n",
    "**skngejc ej yknlknwpa eo w jecdpiwna lhawoa bnaa ia bnki pdaoa dahheod xkjzo osaap lksanxwhh peygap**"
   ]
  },
  {
   "cell_type": "code",
   "execution_count": null,
   "id": "8569d0ba",
   "metadata": {},
   "outputs": [],
   "source": [
    "# Load in the corrupted song lyrics\n",
    "encrypted_lyrics = encrypt_lyrics().lower()\n",
    "\n",
    "def find_original_lyrics(encrypted_lyrics):\n",
    "    \"\"\"\n",
    "    Given some lyrics which have been shifted, shift them back to their original form!\n",
    "    Hint: Only change letters, not spaces or punctation\n",
    "    \"\"\"\n",
    "    \n",
    "    return\n",
    "\n",
    "og_lyrics = find_original_lyrics(encrypted_lyrics)\n",
    "print(og_lyrics)"
   ]
  },
  {
   "cell_type": "code",
   "execution_count": null,
   "id": "fa477239",
   "metadata": {},
   "outputs": [],
   "source": [
    "# Testing time!\n",
    "# Depending on how you decoded it maybe our answers will differ\n",
    "# If the print statement above looks sensible, you probably did it right :)\n",
    "\n",
    "test_unencrypted_lyrics(og_lyrics)"
   ]
  },
  {
   "cell_type": "markdown",
   "id": "137046b2",
   "metadata": {},
   "source": [
    "# Problem 5 - Best Celebrity Invite List (Hard Algorithmically!)\n",
    "\n",
    "You are super popular and want to invite over a bunch of celebrities who you're tight with! However, there is a problem - celebrity drama as always is getting in the way. You need to make sure that no two people at the party dislike each other, and you also want to have as many people at the party who do like each other as possible.\n",
    "\n",
    "Luckily, you are an avid TikTok user so you keep notes on the relationships between all your celeb friends. You note 1 if people do like each other, 0 if they are indifferent, and -1 if they have some beef.\n",
    "\n",
    "These notes will look like the below example:\n",
    "\n",
    "```python\n",
    "names = ['Zendaya', 'Rihanna', 'Keanu Reeves', 'Scarlett Johansson', 'David Beckham']\n",
    "\n",
    "love_hate_matrix = [\n",
    "    [0, 1, 1, -1, 1],\n",
    "    [1, 0, 1, 0, 0],\n",
    "    [1, 1, 0, -1, 1],\n",
    "    [-1, 0, -1, 0, 1],\n",
    "    [1, 0, 1, 1, 0]\n",
    "]\n",
    "```\n",
    "\n",
    "Each row represents a celebrities relationships. Ex. the middle row shows Keanu likes Zendaya, likes Rihanna, \n",
    "dislikes Scarjo, and likes David Beckham. (Notice the diagonal of the matrix is all 0. That is because the diagonal\n",
    "is showing each celebrity's relationship with themself, which we don't care about)\n",
    "\n",
    "idk ifI explained this earlier but ye a matrix is j 2D list meaning each entry of the list is another list. So to get a row you do `x[0]` and specific item you do `x[0][0]`\n",
    "\n",
    "### Hint!!\n",
    "\n",
    "There are $2^n$ possible ways to invite people (because each person is like a bit, 0 or 1 invited or not). You need to loop through every possibility to get the best one!\n",
    "\n",
    "The answer is a little hard to check here because there may be a few. If your list of names is the same length as mine and your guests can all actually be invited, you're good!\n",
    "\n",
    "**Go make the best party possible! You want to keep your A-list status**"
   ]
  },
  {
   "cell_type": "code",
   "execution_count": null,
   "id": "f1a7116e",
   "metadata": {},
   "outputs": [],
   "source": [
    "from typing import List\n",
    "\n",
    "# Load up the celebrity names and their love/hate matrix!! You can make n smaller if you \n",
    "# want to see what's going on easier.\n",
    "# Try to make it a little bigger (10+) for the solution to make sure you have it right\n",
    "n=10\n",
    "celebrity_names, affinity_matrix = generate_celebrity_relationship_matrix(n)\n",
    "\n",
    "def max_party_invite(n, love_hate_matrix, names):\n",
    "    \"\"\"\n",
    "    Find the largest subset of celebrities who can all attend the party together,\n",
    "    where no one dislikes anyone else.\n",
    "    \n",
    "    Parameters:\n",
    "    - n (int): The number of celebrities.\n",
    "    - matrix (List[List[int]]): A square matrix where matrix[i][j] is 1 if celebrity i likes celebrity j,\n",
    "                                 -1 if celebrity i dislikes celebrity j, and 0 if celebrity i has no opinion.\n",
    "                                 This is mutual. Ex: if Ariana Grande hates Matt Damon, he hates her too.\n",
    "    - names (List[str]): A list of celebrity names corresponding to the rows and columns of the matrix.\n",
    "    \n",
    "    Returns:\n",
    "    - List[str]: A list of celebrity names who can all attend the party together.\n",
    "    \"\"\"\n",
    "    \n",
    "    return\n",
    "\n",
    "best_invite_list = max_party_invite(n, affinity_matrix, celebrity_names)\n",
    "print(best_invite_list)"
   ]
  },
  {
   "cell_type": "code",
   "execution_count": null,
   "id": "7c42a62a",
   "metadata": {},
   "outputs": [],
   "source": [
    "# Testing Time!\n",
    "\n",
    "max_party_invites_test(best_invite_list, n, affinity_matrix, celebrity_names)"
   ]
  },
  {
   "cell_type": "markdown",
   "id": "79e2b2ba",
   "metadata": {},
   "source": [
    "# Awesome work! Time to move on!"
   ]
  },
  {
   "cell_type": "code",
   "execution_count": null,
   "id": "3b2085f2",
   "metadata": {},
   "outputs": [],
   "source": []
  }
 ],
 "metadata": {
  "kernelspec": {
   "display_name": "Python 3 (ipykernel)",
   "language": "python",
   "name": "python3"
  },
  "language_info": {
   "codemirror_mode": {
    "name": "ipython",
    "version": 3
   },
   "file_extension": ".py",
   "mimetype": "text/x-python",
   "name": "python",
   "nbconvert_exporter": "python",
   "pygments_lexer": "ipython3",
   "version": "3.10.13"
  }
 },
 "nbformat": 4,
 "nbformat_minor": 5
}
