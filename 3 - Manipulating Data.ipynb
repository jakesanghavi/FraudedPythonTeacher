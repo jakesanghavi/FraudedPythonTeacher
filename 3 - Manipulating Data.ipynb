{
 "cells": [
  {
   "cell_type": "markdown",
   "id": "64845b16",
   "metadata": {},
   "source": [
    "# Warning - This Notebook Will Be Like #1 - Very Heavy on Syntax, Until the End\n",
    "\n",
    "### If you get bored, just skip to the end and do the problems!"
   ]
  },
  {
   "cell_type": "markdown",
   "id": "8a90e47a",
   "metadata": {},
   "source": [
    "<img src=\"https://media1.tenor.com/m/iHgOa-519TkAAAAC/angry-angry-panda.gif\" width=\"690\" height=\"476.1\" alt=\"panda go smash haha\" fetchpriority=\"high\" style=\"max-width: 690px; background-color: rgb(84, 90, 82);\">"
   ]
  },
  {
   "cell_type": "markdown",
   "id": "94bd77a0",
   "metadata": {},
   "source": [
    "# Numpy\n",
    "\n",
    "Numpy (Numerical Python) is a library/package which makes operating on lists/arrays/matrices much faster because it compiles down to the C programming language (under the hood). This makes it awesome for processing a lot of data.\n",
    "\n",
    "Let's see this below in a simply example where we just want to multiply each element in a list by 2."
   ]
  },
  {
   "cell_type": "code",
   "execution_count": 33,
   "id": "0fa5955d",
   "metadata": {},
   "outputs": [],
   "source": [
    "# Add in our testing notebook as usual\n",
    "!wget https://github.com/jakesanghavi/FraudedPythonTeacher/blob/main/testing_files/testing3.py -P testing_files/\n",
    "%run testing_files/testing3.py"
   ]
  },
  {
   "cell_type": "code",
   "execution_count": 34,
   "id": "e382d443",
   "metadata": {},
   "outputs": [
    {
     "name": "stdout",
     "output_type": "stream",
     "text": [
      "Python list took: 0.04329 seconds\n",
      "NumPy array took: 0.00140 seconds\n",
      "NumPy is over 31x faster!!!\n"
     ]
    }
   ],
   "source": [
    "'''\n",
    "Using the np alias is the standard way to import numpy\n",
    "'''\n",
    "import numpy as np\n",
    "import time\n",
    "\n",
    "# Let's make a list in standard Python vs. a list in NumPy\n",
    "size = 1_000_000\n",
    "\n",
    "# Python list version\n",
    "py_list = list(range(size))\n",
    "start = time.time()\n",
    "py_result = [x * 2 for x in py_list]\n",
    "end = time.time()\n",
    "diff_p = end - start\n",
    "print(f\"Python list took: {diff_p:.5f} seconds\")\n",
    "\n",
    "# NumPy version\n",
    "np_array = np.arange(size)\n",
    "start = time.time()\n",
    "np_result = np_array * 2\n",
    "end = time.time()\n",
    "diff_n = end - start\n",
    "print(f\"NumPy array took: {diff_n:.5f} seconds\")\n",
    "\n",
    "print(f\"NumPy is over {int(diff_p/diff_n)}x faster!!!\")"
   ]
  },
  {
   "cell_type": "markdown",
   "id": "79c2b9d1",
   "metadata": {},
   "source": [
    "# Numpy - Major Changes\n",
    "\n",
    "#### Make a numpy array (rather than python list): `arr = np.array([1, 2, 3, 4])`\n",
    "#### Arrange numbers evenly: `np.arange(0, 10, 2) --> [0 2 4 6 8] OR np.linspace(0, 1, 5) --> [0, 0.2, 0.4, 0.8]`\n",
    "\n",
    "np.arange takes arguments as `(start, end, space)` to generate numbers in the range `[start, end)` spaced apart by `space`  in value\n",
    "np.linspace takes arguments as `(start, end, count)` to generate `count` evenly spaced numbers in the range `[start, end)`\n",
    "\n",
    "### Basic Math Operations\n",
    "Unlike python lists, you can do numerical operations (+,-,*,/) straight on the array! ex. `np.array([1, 2, 3, 4]) + 4 --> [5,6,7,8]`\n",
    "You can also do other nice operations, like `sum()`, `mean()`, `std()` (standard deviation), and more! ex. `np.mean([1, 2, 3, 4]) --> 2.5`\n",
    "\n",
    "### Filter Array\n",
    "\n",
    "`mask = arr > 5` --> This makes a numpy array of the same length as arr with values of True and False based on the condition\n",
    "`filtered_arr = arr[mask]` --> This extracts only entries with indices where the mask had True values"
   ]
  },
  {
   "cell_type": "markdown",
   "id": "14de6d1d",
   "metadata": {},
   "source": [
    "# Numpy is Super Versatile!\n",
    "\n",
    "I won't go through everything it can do, just know that it is a very useful tool for making things faster/easier/more concise when working with any type of list/matrix-like data. \n",
    "\n",
    "**This is helpful to know for the next part, Pandas!**  \n",
    "**But first, try out some practice problems.**"
   ]
  },
  {
   "cell_type": "code",
   "execution_count": 3,
   "id": "7ddcdc8a",
   "metadata": {},
   "outputs": [],
   "source": [
    "### Use numpy to generate all even numbers from 1-1,000, as a numpy array!\n",
    "\n",
    "even_nums = '...'"
   ]
  },
  {
   "cell_type": "code",
   "execution_count": 4,
   "id": "cb87c1bd",
   "metadata": {},
   "outputs": [
    {
     "name": "stdout",
     "output_type": "stream",
     "text": [
      "Hmm it looks like this isn't quite right. Try again!\n"
     ]
    }
   ],
   "source": [
    "# Testing time!\n",
    "\n",
    "test_even_nums(even_nums)"
   ]
  },
  {
   "cell_type": "code",
   "execution_count": 5,
   "id": "a54eedee",
   "metadata": {},
   "outputs": [],
   "source": [
    "# Generate an array of 500 random integers using numpy (hint: look up np.random.randint)\n",
    "# Then, add 5 to all array values, and find the mean and standard deviation\n",
    "# THIS SHOULD ONLY TAKE 4 LINES OF CODE\n",
    "\n",
    "random_array = '...'"
   ]
  },
  {
   "cell_type": "code",
   "execution_count": 6,
   "id": "a94943f9",
   "metadata": {},
   "outputs": [
    {
     "ename": "NameError",
     "evalue": "name 'random_array_mean' is not defined",
     "output_type": "error",
     "traceback": [
      "\u001b[0;31m---------------------------------------------------------------------------\u001b[0m",
      "\u001b[0;31mNameError\u001b[0m                                 Traceback (most recent call last)",
      "Cell \u001b[0;32mIn[6], line 3\u001b[0m\n\u001b[1;32m      1\u001b[0m \u001b[38;5;66;03m# Testing time\u001b[39;00m\n\u001b[0;32m----> 3\u001b[0m test_random_stats(random_array, \u001b[43mrandom_array_mean\u001b[49m, random_array_std)\n",
      "\u001b[0;31mNameError\u001b[0m: name 'random_array_mean' is not defined"
     ]
    }
   ],
   "source": [
    "# Testing time\n",
    "\n",
    "test_random_stats(random_array, random_array_mean, random_array_std)"
   ]
  },
  {
   "cell_type": "code",
   "execution_count": 9,
   "id": "647870b5",
   "metadata": {},
   "outputs": [],
   "source": [
    "### Given a numpy array of student test scores, filter out all scores below 60\n",
    "### After this, we will move on to Pandas!\n",
    "\n",
    "# Random scores are generated for you\n",
    "test_scores = generate_random_test_scores(1000)\n",
    "\n",
    "filtered_scores = '...'"
   ]
  },
  {
   "cell_type": "code",
   "execution_count": 10,
   "id": "ee578089",
   "metadata": {},
   "outputs": [
    {
     "name": "stdout",
     "output_type": "stream",
     "text": [
      "Hmm it looks like this isn't quite right. Try again!\n"
     ]
    }
   ],
   "source": [
    "# Testing time!\n",
    "\n",
    "test_score_filter(test_scores, filtered_scores)"
   ]
  },
  {
   "cell_type": "markdown",
   "id": "f8a0dd97",
   "metadata": {},
   "source": [
    "<hr style=\"border-top: 3px solid #bbb;\">"
   ]
  },
  {
   "cell_type": "markdown",
   "id": "eec349dd",
   "metadata": {},
   "source": [
    "# Pandas 🐼 🐼 🐼\n",
    "\n",
    "Pandas is basically Excel for cool kids. It's Python's most popular library for working with tabular data, which is one of the most common ways data comes -- many forms of data can be put into table form.\n",
    "\n",
    "Pandas tables (like any table) have rows and columns. The columns have string names and the rows have integer index numbers. Let's look at a Pandas table (called a DataFrame) below:"
   ]
  },
  {
   "cell_type": "code",
   "execution_count": 35,
   "id": "1088b647",
   "metadata": {},
   "outputs": [
    {
     "data": {
      "text/html": [
       "<div>\n",
       "<style scoped>\n",
       "    .dataframe tbody tr th:only-of-type {\n",
       "        vertical-align: middle;\n",
       "    }\n",
       "\n",
       "    .dataframe tbody tr th {\n",
       "        vertical-align: top;\n",
       "    }\n",
       "\n",
       "    .dataframe thead th {\n",
       "        text-align: right;\n",
       "    }\n",
       "</style>\n",
       "<table border=\"1\" class=\"dataframe\">\n",
       "  <thead>\n",
       "    <tr style=\"text-align: right;\">\n",
       "      <th></th>\n",
       "      <th>Name</th>\n",
       "      <th>Role</th>\n",
       "      <th>Age</th>\n",
       "    </tr>\n",
       "  </thead>\n",
       "  <tbody>\n",
       "    <tr>\n",
       "      <th>0</th>\n",
       "      <td>Tony</td>\n",
       "      <td>Iron Man</td>\n",
       "      <td>48</td>\n",
       "    </tr>\n",
       "    <tr>\n",
       "      <th>1</th>\n",
       "      <td>Steve</td>\n",
       "      <td>Captain America</td>\n",
       "      <td>105</td>\n",
       "    </tr>\n",
       "    <tr>\n",
       "      <th>2</th>\n",
       "      <td>Natasha</td>\n",
       "      <td>Black Widow</td>\n",
       "      <td>35</td>\n",
       "    </tr>\n",
       "  </tbody>\n",
       "</table>\n",
       "</div>"
      ],
      "text/plain": [
       "      Name             Role  Age\n",
       "0     Tony         Iron Man   48\n",
       "1    Steve  Captain America  105\n",
       "2  Natasha      Black Widow   35"
      ]
     },
     "execution_count": 35,
     "metadata": {},
     "output_type": "execute_result"
    }
   ],
   "source": [
    "'''\n",
    "Like numpy, pandas also uses an alias when it is imported\n",
    "'''\n",
    "import pandas as pd\n",
    "\n",
    "data = {\n",
    "    'Name': ['Tony', 'Steve', 'Natasha'],\n",
    "    'Role': ['Iron Man', 'Captain America', 'Black Widow'],\n",
    "    'Age': [48, 105, 35]\n",
    "}\n",
    "\n",
    "df = pd.DataFrame(data)\n",
    "\n",
    "\n",
    "'''\n",
    "The above is also equivalent to this:\n",
    "'''\n",
    "# data = [['Tony', 'Steve', 'Natasha'],\n",
    "#           ['Iron Man', 'Captain America', 'Black Widow'],\n",
    "#           [48, 105, 35]]\n",
    "\n",
    "# colnames = ['Name', 'Role', 'Age']\n",
    "# df= pd.DataFrame(data, columns=colnames)\n",
    "\n",
    "\n",
    "df"
   ]
  },
  {
   "cell_type": "markdown",
   "id": "ea3491e5",
   "metadata": {},
   "source": [
    "# DataFrames are awesome!\n",
    "\n",
    "If you couldn't tell from the above, DataFrames basically build on the fantastic dictionary data structure. This lets you look things up in the table, and change things in the table very quickly if needed. You can also pick out certain columns and rows very easily.\n",
    "\n",
    "Let's see how that's done:"
   ]
  },
  {
   "cell_type": "code",
   "execution_count": null,
   "id": "6a7529df",
   "metadata": {},
   "outputs": [],
   "source": [
    "# Let's print out just the Name column\n",
    "# You access columns in Pandas like you would dictionary keys\n",
    "\n",
    "df['Name']"
   ]
  },
  {
   "cell_type": "code",
   "execution_count": null,
   "id": "958da247",
   "metadata": {},
   "outputs": [],
   "source": [
    "# Let's print out just the first row using .iloc\n",
    "# iloc picks a row at the specified index\n",
    "\n",
    "df.iloc[0]"
   ]
  },
  {
   "cell_type": "code",
   "execution_count": null,
   "id": "8a6b7d9f",
   "metadata": {},
   "outputs": [],
   "source": [
    "# To change something at a specific postion, reference it with .loc[row_number, column]\n",
    "df.loc[0, 'Name'] = 'Neha'\n",
    "\n",
    "df"
   ]
  },
  {
   "cell_type": "code",
   "execution_count": null,
   "id": "64fee1c4",
   "metadata": {},
   "outputs": [],
   "source": [
    "# To perform basic mathematical operations on Pandas columns, it is super easy just like Numpy!\n",
    "# This is because the values in a column are very similar to Numpy arrays!\n",
    "\n",
    "df['Age'] = df['Age'] + 5\n",
    "\n",
    "df"
   ]
  },
  {
   "cell_type": "markdown",
   "id": "1a625c38",
   "metadata": {},
   "source": [
    "# SQL ... Yeah the 5th Circle of Hell Sadly is a Bit Useful\n",
    "\n",
    "yea yea ok obviously everyone hates this part\n",
    "\n",
    "I lied we won't actual be doing SQL but it's like highkey the same thing\n",
    "\n",
    "Anyways doing filters and aggregations on tables (basically the main point of SQL too) is often really useful.\n",
    "Let's see how we can do this at a basic level.\n",
    "\n",
    "### Important Note\n",
    "\n",
    "Pandas is not an \"in-place\" operator by default. This means that if you say something like:\n",
    "`df[df['Name'] == 'Neha']`\n",
    "\n",
    "Nothing actually happens to the `df` variable. You have to say `df = df[df['Name'] == 'Neha']`\n",
    "\n",
    "For the purposes of printing I will use the former, but just know that's not changing the actual df."
   ]
  },
  {
   "cell_type": "code",
   "execution_count": null,
   "id": "60c8eeb6",
   "metadata": {},
   "outputs": [],
   "source": [
    "# The below syntax looks a little silly. Let's explain how it works\n",
    "# Basically, the part inside of the outermost set of brackets returns a 1D-array of True/False values,\n",
    "# True where the condition is met, and False where is it not. \n",
    "# Then, the df[] on the outside will return only rows where that is true\n",
    "\n",
    "df[df['Role'] == 'Iron Man']"
   ]
  },
  {
   "cell_type": "code",
   "execution_count": null,
   "id": "20c0de48",
   "metadata": {},
   "outputs": [],
   "source": [
    "# Combining conditions requires you to wrap each condition in parentheses\n",
    "# Note: unlike base Python which uses 'and' and 'or' like words,\n",
    "# Pandas uses the so-called bitwise operators: & and | for and and or\n",
    "\n",
    "df[(df['Role'] == 'Iron Man') | (df['Age'] > 100)]"
   ]
  },
  {
   "cell_type": "markdown",
   "id": "9850ce05",
   "metadata": {},
   "source": [
    "## Aggregations"
   ]
  },
  {
   "cell_type": "code",
   "execution_count": null,
   "id": "66202d16",
   "metadata": {},
   "outputs": [],
   "source": [
    "# We'll load up a new DF to showcase this\n",
    "data = {\n",
    "    'Employee': ['Alice', 'Bob', 'Charlie', 'Diana', 'Ethan', 'Fiona', 'George', 'Hannah'],\n",
    "    'Department': ['HR', 'Engineering', 'HR', 'Engineering', 'Marketing', 'Engineering', 'Marketing', 'HR'],\n",
    "    'Salary': [60000, 80000, 65000, 85000, 55000, 87000, 53000, 62000],\n",
    "    'YearsAtCompany': [2, 5, 3, 6, 1, 7, 2, 4]\n",
    "}\n",
    "\n",
    "df = pd.DataFrame(data)\n",
    "\n",
    "# Pandas groupby is used to \"aggregate\" data. Let's explain\n",
    "# Groupby takes in 1+ columns to \"group\" on. This basically makes a bunch of smaller DataFrames,\n",
    "# where each DataFrame only contains the exact same values for the grouped columns.\n",
    "# ex. for the below, one DataFrame will hold just HR, one will hold Engineering, and one will hold Marketing\n",
    "\n",
    "# Then, on each of these mini DataFrames, we will do some sort of overall calculation on some of the other columns\n",
    "# Below, we get the average salary and total years at the company, BY each department\n",
    "# I hope that makes sense!\n",
    "df.groupby(['Department'], as_index=False).agg({'Salary': 'mean', 'YearsAtCompany': 'sum'})"
   ]
  },
  {
   "cell_type": "markdown",
   "id": "5772170f",
   "metadata": {},
   "source": [
    "# Miscellaneous Cool Functions\n",
    "\n",
    "Here are some other functions you might like to use:\n",
    "\n",
    "`df.sort_values('Score', ascending=False)` --> (ascending is True by default)\n",
    "\n",
    "`df[df['Name'].str.contains('Jake')]` --> (adding `.str()` after a column name lets you use all basic string operations for the whole column in Numpy-like fashion\n",
    "\n",
    "`df.isnull()` --> Checks for null (missing) data\n",
    "\n",
    "`df.fillna(0)` --> Can fill missing data with a particular value\n",
    "\n",
    "Like Numpy, Pandas is a huge library with a ton of functions. So, there is way more but this was already enough yap. Why don't you try to use these libraries with some basic problems?"
   ]
  },
  {
   "cell_type": "code",
   "execution_count": 23,
   "id": "f3705fd7",
   "metadata": {},
   "outputs": [],
   "source": [
    "### Make a Pandas DataFrame from this dictionary\n",
    "### YEs yes it's chatgptdp generated so the numbers and genres are a bit off\n",
    "#### but you get the idea\n",
    "### Not testing anything for this part it'll be obvious if the df is made\n",
    "\n",
    "data = {\n",
    "    'Name': [\n",
    "        'Taylor Swift', 'Beyoncé', 'Bruno Mars', 'Adele', 'Ed Sheeran',\n",
    "        'Billie Eilish', 'The Weeknd', 'Lady Gaga', 'Drake', 'Dua Lipa',\n",
    "        'Harry Styles', 'Kendrick Lamar', 'Rihanna', 'Doja Cat', 'Justin Bieber',\n",
    "        'Lizzo', 'Ariana Grande', 'Sam Smith', 'Olivia Rodrigo', 'SZA'\n",
    "    ],\n",
    "    'Genre': [\n",
    "        'Pop', 'R&B', 'Pop', 'Soul', 'Pop',\n",
    "        'Alt Pop', 'R&B', 'Pop', 'Hip Hop', 'Pop',\n",
    "        'Pop', 'Hip Hop', 'R&B', 'Pop', 'Pop',\n",
    "        'Soul', 'Pop', 'Pop', 'Pop', 'R&B'\n",
    "    ],\n",
    "    'Age': [\n",
    "        34, 42, 38, 35, 33,\n",
    "        22, 34, 38, 37, 28,\n",
    "        30, 36, 36, 28, 30,\n",
    "        35, 30, 31, 21, 34\n",
    "    ],\n",
    "    'Grammys': [\n",
    "        12, 32, 15, 16, 4,\n",
    "        7, 4, 13, 5, 3,\n",
    "        2, 17, 9, 1, 2,\n",
    "        4, 2, 5, 3, 4\n",
    "    ]\n",
    "}\n",
    "\n",
    "musician_df = pd.DataFrame(data)"
   ]
  },
  {
   "cell_type": "code",
   "execution_count": 30,
   "id": "bf3d4ceb",
   "metadata": {},
   "outputs": [],
   "source": [
    "### Get the row that just has Lady Gaga's info\n",
    "\n",
    "gaga_row = '...'"
   ]
  },
  {
   "cell_type": "code",
   "execution_count": null,
   "id": "4840b1b5",
   "metadata": {},
   "outputs": [],
   "source": [
    "# Testing time!\n",
    "\n",
    "test_gaga_row(musician_df, gaga_row)"
   ]
  },
  {
   "cell_type": "code",
   "execution_count": 32,
   "id": "81699be6",
   "metadata": {},
   "outputs": [
    {
     "data": {
      "text/html": [
       "<div>\n",
       "<style scoped>\n",
       "    .dataframe tbody tr th:only-of-type {\n",
       "        vertical-align: middle;\n",
       "    }\n",
       "\n",
       "    .dataframe tbody tr th {\n",
       "        vertical-align: top;\n",
       "    }\n",
       "\n",
       "    .dataframe thead th {\n",
       "        text-align: right;\n",
       "    }\n",
       "</style>\n",
       "<table border=\"1\" class=\"dataframe\">\n",
       "  <thead>\n",
       "    <tr style=\"text-align: right;\">\n",
       "      <th></th>\n",
       "      <th>Genre</th>\n",
       "      <th>Age</th>\n",
       "      <th>Grammys</th>\n",
       "    </tr>\n",
       "  </thead>\n",
       "  <tbody>\n",
       "    <tr>\n",
       "      <th>0</th>\n",
       "      <td>Alt Pop</td>\n",
       "      <td>22.0</td>\n",
       "      <td>7</td>\n",
       "    </tr>\n",
       "    <tr>\n",
       "      <th>1</th>\n",
       "      <td>Hip Hop</td>\n",
       "      <td>36.5</td>\n",
       "      <td>22</td>\n",
       "    </tr>\n",
       "    <tr>\n",
       "      <th>2</th>\n",
       "      <td>Pop</td>\n",
       "      <td>31.0</td>\n",
       "      <td>62</td>\n",
       "    </tr>\n",
       "    <tr>\n",
       "      <th>3</th>\n",
       "      <td>R&amp;B</td>\n",
       "      <td>36.5</td>\n",
       "      <td>49</td>\n",
       "    </tr>\n",
       "    <tr>\n",
       "      <th>4</th>\n",
       "      <td>Soul</td>\n",
       "      <td>35.0</td>\n",
       "      <td>20</td>\n",
       "    </tr>\n",
       "  </tbody>\n",
       "</table>\n",
       "</div>"
      ],
      "text/plain": [
       "     Genre   Age  Grammys\n",
       "0  Alt Pop  22.0        7\n",
       "1  Hip Hop  36.5       22\n",
       "2      Pop  31.0       62\n",
       "3      R&B  36.5       49\n",
       "4     Soul  35.0       20"
      ]
     },
     "execution_count": 32,
     "metadata": {},
     "output_type": "execute_result"
    }
   ],
   "source": [
    "### Get the average age AND total number of Grammys for each Genre! (hint: use group by!)\n",
    "### I won't test this but in the cell below is what it should look like\n"
   ]
  },
  {
   "cell_type": "code",
   "execution_count": 36,
   "id": "fc2041fe",
   "metadata": {},
   "outputs": [
    {
     "data": {
      "text/html": [
       "<div>\n",
       "<style scoped>\n",
       "    .dataframe tbody tr th:only-of-type {\n",
       "        vertical-align: middle;\n",
       "    }\n",
       "\n",
       "    .dataframe tbody tr th {\n",
       "        vertical-align: top;\n",
       "    }\n",
       "\n",
       "    .dataframe thead th {\n",
       "        text-align: right;\n",
       "    }\n",
       "</style>\n",
       "<table border=\"1\" class=\"dataframe\">\n",
       "  <thead>\n",
       "    <tr style=\"text-align: right;\">\n",
       "      <th></th>\n",
       "      <th>Genre</th>\n",
       "      <th>Age</th>\n",
       "      <th>Grammys</th>\n",
       "    </tr>\n",
       "  </thead>\n",
       "  <tbody>\n",
       "    <tr>\n",
       "      <th>0</th>\n",
       "      <td>Alt Pop</td>\n",
       "      <td>22.0</td>\n",
       "      <td>7</td>\n",
       "    </tr>\n",
       "    <tr>\n",
       "      <th>1</th>\n",
       "      <td>Hip Hop</td>\n",
       "      <td>36.5</td>\n",
       "      <td>22</td>\n",
       "    </tr>\n",
       "    <tr>\n",
       "      <th>2</th>\n",
       "      <td>Pop</td>\n",
       "      <td>31.0</td>\n",
       "      <td>62</td>\n",
       "    </tr>\n",
       "    <tr>\n",
       "      <th>3</th>\n",
       "      <td>R&amp;B</td>\n",
       "      <td>36.5</td>\n",
       "      <td>49</td>\n",
       "    </tr>\n",
       "    <tr>\n",
       "      <th>4</th>\n",
       "      <td>Soul</td>\n",
       "      <td>35.0</td>\n",
       "      <td>20</td>\n",
       "    </tr>\n",
       "  </tbody>\n",
       "</table>\n",
       "</div>"
      ],
      "text/plain": [
       "     Genre   Age  Grammys\n",
       "0  Alt Pop  22.0        7\n",
       "1  Hip Hop  36.5       22\n",
       "2      Pop  31.0       62\n",
       "3      R&B  36.5       49\n",
       "4     Soul  35.0       20"
      ]
     },
     "execution_count": 36,
     "metadata": {},
     "output_type": "execute_result"
    }
   ],
   "source": [
    "test_groupby_fun(musician_df)"
   ]
  },
  {
   "cell_type": "markdown",
   "id": "7121867b",
   "metadata": {},
   "source": [
    "# Awesome work! Time to move on to the last notebook!"
   ]
  },
  {
   "cell_type": "code",
   "execution_count": null,
   "id": "e93fe1c3",
   "metadata": {},
   "outputs": [],
   "source": []
  }
 ],
 "metadata": {
  "kernelspec": {
   "display_name": "Python 3 (ipykernel)",
   "language": "python",
   "name": "python3"
  },
  "language_info": {
   "codemirror_mode": {
    "name": "ipython",
    "version": 3
   },
   "file_extension": ".py",
   "mimetype": "text/x-python",
   "name": "python",
   "nbconvert_exporter": "python",
   "pygments_lexer": "ipython3",
   "version": "3.10.13"
  }
 },
 "nbformat": 4,
 "nbformat_minor": 5
}
