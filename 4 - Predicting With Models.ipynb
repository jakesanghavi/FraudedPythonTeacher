{
 "cells": [
  {
   "cell_type": "markdown",
   "id": "3f9aa232",
   "metadata": {},
   "source": [
    "# Empty for now bc I am a lazy bum. Coming soon tho"
   ]
  },
  {
   "cell_type": "markdown",
   "id": "02b38e76",
   "metadata": {},
   "source": [
    "<img src=\"https://media1.tenor.com/m/Sgz5yXYtTyoAAAAC/sleepy-sleeping-at-work.gif\" width=\"690\" height=\"757.3170731707318\" alt=\"Stanley schleep lmao\" fetchpriority=\"high\" style=\"max-width: 690px;\">"
   ]
  },
  {
   "cell_type": "code",
   "execution_count": null,
   "id": "5f6cdd27",
   "metadata": {},
   "outputs": [],
   "source": []
  }
 ],
 "metadata": {
  "kernelspec": {
   "display_name": "Python 3 (ipykernel)",
   "language": "python",
   "name": "python3"
  },
  "language_info": {
   "codemirror_mode": {
    "name": "ipython",
    "version": 3
   },
   "file_extension": ".py",
   "mimetype": "text/x-python",
   "name": "python",
   "nbconvert_exporter": "python",
   "pygments_lexer": "ipython3",
   "version": "3.10.13"
  }
 },
 "nbformat": 4,
 "nbformat_minor": 5
}
