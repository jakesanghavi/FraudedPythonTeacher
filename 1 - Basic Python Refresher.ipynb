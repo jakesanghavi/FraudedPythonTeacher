{
 "cells": [
  {
   "cell_type": "markdown",
   "id": "e669b587",
   "metadata": {},
   "source": [
    "# Welcome to Python Training!\n",
    "\n",
    "You'll be back to remembering how to program in no time. Python is so much better/easier than R and Go anyways 😉\n",
    "\n",
    "I split it into 4 files:\n",
    "- 1) (This One): Basics about how Python works\n",
    "- 2) Apply Python to solve easy LeetCode-style problems\n",
    "- 3) Use pandas and numpy to deal with datasets\n",
    "- 4) Put it all together (+sklearn) to make a simple model!\n",
    "\n",
    "I'm approaching this as though you remember how programming works but not much else, there will def be a bunch of stuff you already know here that you can speed through. Tbh skip everything if you don't need this part."
   ]
  },
  {
   "cell_type": "markdown",
   "id": "686907d5",
   "metadata": {},
   "source": [
    "<img src=\"https://media1.tenor.com/m/dY1RlVZmJLkAAAAC/meme.gif\" width=\"690\" height=\"388.125\" alt=\"drizzy drake and lil boat\" fetchpriority=\"high\" style=\"max-width: 690px;\">"
   ]
  },
  {
   "cell_type": "markdown",
   "id": "619a2773",
   "metadata": {},
   "source": [
    "## 1 - Data Types\n",
    "\n",
    "### Primitive Data Types\n",
    "\n",
    "Python has 4 primitive (aka basic) data types for variables. Other more complicated data types and data structures will build on these\n",
    "\n",
    "- int (any whole number), ex. `x = 1` or `x = -1` or `x = 0`\n",
    "- float (any decimal number), ex. `x = 1.0`\n",
    "    - Note that ints and floats can use all the common math operations (+, -, *, /) together, ex. 5.8/2 and can be used together with no issue.\n",
    "    - There are other math operations too. Ex. exponents use `**`. Ex. `4**2 = 16`\n",
    "- String (any character-based data), ex. `x = \"Hello World!\"` or x = `'Hello World!'`\n",
    "- Boolean (true/false binary value), ex. `x = True` or `x = 5 > 3`       <-- this is sometimes useful too!\n",
    "\n",
    "\n",
    "### Other Common Data Types\n",
    "\n",
    "Often times, you'll find it useful to store multiple pieces of data together, ex. a collection of names. The below are some built in options for doing this:\n",
    "\n",
    "- list (an ordered array of values with elastic size and as many types as you want), ex. `x = ['a', 1.0, True, 'a']`\n",
    "    - To add to the end of a list, use `.append()`, ex. `x.append(99)`\n",
    "    - To access or edit items in a list, use indexing starting with 0, ex. `y = x[0]` --> `y = 'a'`, OR `x[0] = 'hello'` --> `x = ['hello', 1.0, True, 'a']`\n",
    "\n",
    "- tuple (an ordered group of values with fixed size and as many types as you want), ex. `x = ('a', 1, 1.0, True)`\n",
    "    - Unlike lists, tuples can't be changed after you make them. They are pronounced 'toople' instead of 'tupple' which is dumb and I will always say 'tupple' because I refuse to adapt to bad conventions\n",
    "- set (an unordered group of values with elastic size and as many types as you want. Each element is guaranteed to appear at most once), ex. `x = {'a', 1.0, True}`. Wrap a list with `set()` to make it a set just like that\n",
    "    - To add to a set, use `.add()`, ex. `x.add('z')` --> `x = {'a', 1.0, True, 'z'}`\n",
    "    - If you add a value already in the set, nothing happens\n",
    "    - You can't access items by index which blows\n",
    "- dict (a hashmap. We will explain this more below), ex. `x = { 'Atlanta': 'N2', 'Dallas', 'N3', 'Bothell': 'N4' }`\n",
    "\n",
    "Honestly, among these data types you will use lists and dicts way more than anything else. Lists are best for most things, especially simple tasks. But any time you need to fetch certain values or have a value associated with something else, dicts are better. We ❤️ hashmaps in this house\n",
    "\n",
    "## yeah that is a lot of yappying but like you do have to know the types to do stuff"
   ]
  },
  {
   "cell_type": "code",
   "execution_count": null,
   "id": "ad073186",
   "metadata": {},
   "outputs": [],
   "source": [
    "### EXERCISE TIME! (Use SHIFT + ENTER to run a certain cell. You can also press the \"Run\" button in the top menu)\n",
    "### You can also print things using print() or just writing the variable name and running the cell\n",
    "\n",
    "# Try making a list called `groceries` that contains (in any order): apples, milk, eggs\n",
    "\n",
    "groceries = '...'"
   ]
  },
  {
   "cell_type": "code",
   "execution_count": null,
   "id": "f204243b",
   "metadata": {},
   "outputs": [],
   "source": [
    "# Testing time! (DON'T EDIT TESTING CELLS!)\n",
    "%run testing_files/testing1.ipynb\n",
    "\n",
    "test_groceries(groceries)"
   ]
  },
  {
   "cell_type": "code",
   "execution_count": null,
   "id": "0d136145",
   "metadata": {},
   "outputs": [],
   "source": [
    "# Let's do two things at once now!\n",
    "\n",
    "# Using the same groceries list, try adding strawberries to the end of it\n",
    "# Then, change the second item in your groceries list to be flour\n",
    "\n",
    "YOUR_CODE_HERE"
   ]
  },
  {
   "cell_type": "code",
   "execution_count": null,
   "id": "13b7bb0e",
   "metadata": {},
   "outputs": [],
   "source": [
    "# Testing time!\n",
    "\n",
    "test_groceries2(groceries)"
   ]
  },
  {
   "cell_type": "code",
   "execution_count": null,
   "id": "f2342304",
   "metadata": {},
   "outputs": [],
   "source": [
    "# That covers the absolute basics of lists! We can move on to dictionaries now\n",
    "# You can think of dictionaries like lists that use custom predefined index values, instead of the\n",
    "# numerical system lists use. These are called key: value pairs, where you use the key like an index\n",
    "# to grab out the value\n",
    "\n",
    "# Dictionaries/Hashmaps are probably the single most useful data structure! If this explanation \n",
    "# isn't clear ask me about it later :)\n",
    "\n",
    "# Here I've defined a dictionary for you.\n",
    "grocery_prices = {\n",
    "    'apple': 0.99,\n",
    "    'eggs': 3.79,\n",
    "    'milk': 2.49\n",
    "}\n",
    "\n",
    "# Try to make a variable called `milk_price` to store the milk price.\n",
    "# Then, try to add strawberries to the dictionary with some price\n",
    "# Finally, change the price of eggs to something higher\n",
    "\n",
    "YOUR_CODE_HERE"
   ]
  },
  {
   "cell_type": "code",
   "execution_count": null,
   "id": "f3b73cdd",
   "metadata": {},
   "outputs": [],
   "source": [
    "# Testing time!\n",
    "\n",
    "test_grocery_prices(groceries)"
   ]
  },
  {
   "cell_type": "markdown",
   "id": "cf159323",
   "metadata": {},
   "source": [
    "## 2 - For Loops and If/Else\n",
    "\n",
    "### For Loops\n",
    "\n",
    "Sometimes you have a bunch of data that you want to do something with. You need to look at every data point and perform some operations on them. In comes *For Loops*! Iteration is the base of almost all algorithms.\n",
    "\n",
    "You can iterate over a range of numbers using the below. Notice how the `:` symbol is used, and the code inside is indented. This is Python's way of making code blocks, where indented code below will be run separately from the lines outside.\n",
    "\n",
    "`for x in range(0,50):`  \n",
    "`\n",
    "    print(x)\n",
    "`\n",
    "\n",
    "This will loop from the first number in `range` (inclusive) to the last (exclusive). Another option is a *for-each* loop, which looks very similar. This will loop every item in a list (stored in x):\n",
    "\n",
    "`for x in groceries:`  \n",
    "`\n",
    "    print(x)\n",
    "`"
   ]
  },
  {
   "cell_type": "code",
   "execution_count": null,
   "id": "25f2496d",
   "metadata": {},
   "outputs": [],
   "source": [
    "# EXERCISE TIME! Try making a loop which will start with an empty list called empty, and then add all \n",
    "# numbers in orderfrom 1 to 100 into it!\n",
    "\n",
    "# Note: Any variable you make for the FIRST TIME inside the loop will become unavailable OUTSIDE of the loop.\n",
    "# But, if a variable is made outside the loop, you can use it inside the loop as normal\n",
    "\n",
    "empty = '...'"
   ]
  },
  {
   "cell_type": "code",
   "execution_count": null,
   "id": "2ae43421",
   "metadata": {},
   "outputs": [],
   "source": [
    "# Testing time!\n",
    "\n",
    "list100(empty)"
   ]
  },
  {
   "cell_type": "markdown",
   "id": "9e4bb9d7",
   "metadata": {},
   "source": [
    "## If/Else\n",
    "\n",
    "Based on the state of your variables, you may want to do things in different ways. This is where if/else comes in! You can check a true/false statement and change what you do based on it, like below. You can also combine multiple conditions by joining them with `and` or `or` between.\n",
    "\n",
    "`x = 4`  \n",
    "`if x < 5:`  \n",
    "`  \n",
    "    print(\"Small Number\")  \n",
    "`  \n",
    "`else:`  \n",
    "`  \n",
    "    print(\"Maybe not small number\")\n",
    "`\n",
    "    \n",
    "This is really useful and you will use it all the time! But many times, just one true/false check isn't enough. You can add more conditions before `else` by using `elif`, like below:\n",
    "\n",
    "`x = 7`  \n",
    "`if x < 5:`  \n",
    "`\n",
    "    print(\"Small Number\")\n",
    "`  \n",
    "`elif x < 10:`  \n",
    "`\n",
    "    print(\"Medium number\")\n",
    "`  \n",
    "`else:`  \n",
    "`\n",
    "    print(\"Probably not small number\")\n",
    "`"
   ]
  },
  {
   "cell_type": "code",
   "execution_count": null,
   "id": "e3b6a316",
   "metadata": {},
   "outputs": [],
   "source": [
    "# EXERCISE TIME! Make a variable called greeting_message which will change based on if it is morning (4 AM to 12 PM), \n",
    "# afternoon (12 PM to 6 PM), or night (6 PM to 4 AM). Below we will import some packages to help! Importing \n",
    "# packages/libraries is a good way to use other people's code to make things easier.\n",
    "\n",
    "# I've made the current_time variable for you which gets the current hour (0-23). Using that\n",
    "# (ex. current_time/hour), determine whether to say Good morning/good afternoon/good night! Assign that greeting\n",
    "# to the greeting_message variable and print it!\n",
    "\n",
    "from datetime import datetime \n",
    "import pytz\n",
    "\n",
    "best_timezone = pytz.timezone('America/New_York') \n",
    "\n",
    "current_time = datetime.now(best_timezone).hour\n",
    "\n",
    "YOUR_CODE_HERE"
   ]
  },
  {
   "cell_type": "code",
   "execution_count": null,
   "id": "a4749a18",
   "metadata": {},
   "outputs": [],
   "source": [
    "# Testing time!\n",
    "\n",
    "good_day(greeting_message)"
   ]
  },
  {
   "cell_type": "markdown",
   "id": "8c91b5bd",
   "metadata": {},
   "source": [
    "# 3 - Functions!\n",
    "\n",
    "Hate typing the same thing over and over again a la Moose? Never fear, functions are here! Functions are an\n",
    "awesome way to make a piece of code repeatable with just one line of code! And, they are pretty simple!\n",
    "\n",
    "We know how much you like cumsum, so let's see the below (simpler) example for adding two numbers, numsum:\n",
    "\n",
    "`def numsum(a,b):`  \n",
    "`\n",
    "    c = a + b\n",
    "`  \n",
    "`\n",
    "    return c\n",
    "`\n",
    "\n",
    "Functions are started with `def` and they take in arguments (variables that might be required information), run some code, and then use the\n",
    "`return` keyword to pass data back out. So, you could now do the below!\n",
    "\n",
    "`sum_output = numsum(1989, 35)`"
   ]
  },
  {
   "cell_type": "code",
   "execution_count": null,
   "id": "12839b5d",
   "metadata": {},
   "outputs": [],
   "source": [
    "# EXERCISE TIME! Building on our previous greeting code, make a function that will take in the current time, \n",
    "# and the provide the right greeting message! Assign the result to a variable called proper_greeting and print\n",
    "# out the result of your function!\n",
    "\n",
    "proper_greetng = '...'"
   ]
  },
  {
   "cell_type": "code",
   "execution_count": null,
   "id": "e9747d24",
   "metadata": {},
   "outputs": [],
   "source": [
    "# Testing time!\n",
    "\n",
    "good_day(proper_greeting, current_time)"
   ]
  },
  {
   "cell_type": "markdown",
   "id": "a4e215b3",
   "metadata": {},
   "source": [
    "# 4 - Classes\n",
    "\n",
    "We finally made it to the last section of the basics! The super boring part is almost done, and maybe this was all review for you anyways!\n",
    "\n",
    "Classes are kind of like functions. They give you a repeatable way to create complex variables. Take the below example:\n",
    "\n",
    "`class Person:`  \n",
    "`\n",
    "    def __init__(self, height, gluten_problems, misandrist):  \n",
    "`  \n",
    "`\n",
    "            self.height = height\n",
    "`  \n",
    "`\n",
    "            self.gluten_problems = gluten_problems\n",
    "`  \n",
    "`\n",
    "            self.misandrist = misandrist\n",
    "`\n",
    "\n",
    "This is the most basic form of a class. The name of a class is always capitalized. We declare some variables that must be part of the class when creating it. You can also make functions within the class, ex. some function called `bmi(self)`, which could be calculated by dividing `height` by `weight`. The `self` argument is always require bc yeah why not\n",
    "\n",
    "You can make an object with a class like below:\n",
    "\n",
    "`pragya = Person(65, 'Extreme', True)`\n",
    "\n",
    "We could now access traits of this person as follows:\n",
    "\n",
    "`pragya.gluten_problems` --> `'Extreme'`  \n",
    "`pragya.bmi()` --> `Whatever this number would be`"
   ]
  },
  {
   "cell_type": "code",
   "execution_count": null,
   "id": "e0812241",
   "metadata": {},
   "outputs": [],
   "source": [
    "# EXERCISE TIME! Make a class called 'Computer' that has the following attributes: company, size, color.\n",
    "# Then, make an instance of the Computer class called computer that has Apple as the company, \n",
    "# 15 as the size, and blue as the color. Reference the above example if you need help!\n",
    "\n",
    "YOUR_CODE_HERE"
   ]
  },
  {
   "cell_type": "code",
   "execution_count": null,
   "id": "c40fea7b",
   "metadata": {},
   "outputs": [],
   "source": [
    "# Testing Time!\n",
    "\n",
    "computer_lab(computer)"
   ]
  },
  {
   "cell_type": "markdown",
   "id": "4e02b907",
   "metadata": {},
   "source": [
    "# Awesome work! Time to move on!"
   ]
  },
  {
   "cell_type": "code",
   "execution_count": null,
   "id": "a55f8459",
   "metadata": {},
   "outputs": [],
   "source": []
  }
 ],
 "metadata": {
  "kernelspec": {
   "display_name": "Python 3 (ipykernel)",
   "language": "python",
   "name": "python3"
  },
  "language_info": {
   "codemirror_mode": {
    "name": "ipython",
    "version": 3
   },
   "file_extension": ".py",
   "mimetype": "text/x-python",
   "name": "python",
   "nbconvert_exporter": "python",
   "pygments_lexer": "ipython3",
   "version": "3.10.13"
  }
 },
 "nbformat": 4,
 "nbformat_minor": 5
}
